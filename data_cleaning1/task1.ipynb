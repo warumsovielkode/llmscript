{
 "cells": [
  {
   "cell_type": "code",
   "execution_count": 6,
   "metadata": {},
   "outputs": [],
   "source": [
    "import pandas as pd  \n",
    "  \n",
    "file_path = 'data.txt'  \n",
    " \n",
    "df = pd.read_csv(file_path, delimiter='\\t') \n",
    "\n",
    "\n",
    "map ={\n",
    "    \"China\": \"China\"\n",
    "}\n",
    "\n",
    "df['region'] = df['region'].replace(map)\n",
    "df['region'] = df['region'].str.strip().str.title()   \n",
    "  \n",
    "\n",
    "output_file_path = 'result.txt'  \n",
    "df.to_csv(output_file_path, index=False)"
   ]
  }
 ],
 "metadata": {
  "kernelspec": {
   "display_name": "Python 3",
   "language": "python",
   "name": "python3"
  },
  "language_info": {
   "codemirror_mode": {
    "name": "ipython",
    "version": 3
   },
   "file_extension": ".py",
   "mimetype": "text/x-python",
   "name": "python",
   "nbconvert_exporter": "python",
   "pygments_lexer": "ipython3",
   "version": "3.12.4"
  }
 },
 "nbformat": 4,
 "nbformat_minor": 2
}
