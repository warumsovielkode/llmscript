{
 "cells": [
  {
   "cell_type": "code",
   "execution_count": 3,
   "metadata": {},
   "outputs": [
    {
     "name": "stderr",
     "output_type": "stream",
     "text": [
      "C:\\Users\\kevin\\AppData\\Local\\Temp\\ipykernel_10304\\1875039854.py:5: DtypeWarning: Columns (22,30,31,32,33,34,35,36,37,38,39,40,41,42,43,44,45,46,47,48,49,50,51,52,53,54,55,56,57,58,59,60,61,62,63,64,65,66,67,68,69,70,71,72,73,74,75,76,77,78,79,80,81,82,83,84,85,86,87,88,89,90,91,92,93,94,95,96,97,98,99,100,101,102,103,104,105,106,107,108,109,110,111,112,113,114,115,116,117,118,119,120,121,122,123,124,125,126,127,128,129,130,131,132,133,134,135,136,137,138,139,140,141,142,143,144,145,146,147,148,149,150,151,152,153,154,155,156,157,158,159,160,161,162,163,164,165,166,167,168,169,170,171,172,173,174,175,176,177,178,179,180,181,182,183,184,185,186,187,188,189,190,191,192,193,194,195,196,197,198,199,200,201,202,203,204,205,206,207,208,209,210,211,212,213,214,215,216,217,218,219,220,221,222,223,224,225,226,227,228,229,230,231,232,233) have mixed types. Specify dtype option on import or set low_memory=False.\n",
      "  df = pd.read_csv(file_path)\n"
     ]
    }
   ],
   "source": [
    "import pandas as pd\n",
    "\n",
    "file_path = 'data.csv'\n",
    "df = pd.read_csv(file_path)\n",
    "\n",
    "def has_too_many_symbols(text, symbol='#', threshold=3):\n",
    "    return text.count(symbol) > threshold\n",
    "\n",
    "def has_too_many_bullets(text, bullet='-', threshold=3):\n",
    "    return text.count(bullet) > threshold\n",
    "\n",
    "stop_words = set([\"the\", \"is\", \"in\", \"and\", \"to\", \"with\", \"a\", \"for\", \"on\", \"of\", \"at\", \"by\", \"an\", \"be\", \"this\", \"that\", \"from\", \"or\", \"as\", \"but\", \"if\", \"it\", \"are\", \"was\", \"not\", \"which\", \"have\", \"has\", \"had\", \"been\", \"will\", \"would\", \"can\", \"could\", \"should\", \"shall\", \"may\", \"might\", \"do\", \"does\", \"did\", \"their\", \"there\", \"when\", \"where\", \"what\", \"who\", \"whom\"])\n",
    "\n",
    "def contains_at_least_two_stop_words(text, stop_words, threshold=2):\n",
    "    word_count = sum(1 for word in text.split() if word.lower() in stop_words)\n",
    "    return word_count >= threshold\n",
    "\n",
    "df_filtered = df[~df['content'].astype(str).apply(has_too_many_symbols)]\n",
    "df_filtered = df_filtered[~df_filtered['content'].astype(str).apply(has_too_many_bullets)]\n",
    "df_filtered = df_filtered[df_filtered['content'].astype(str).apply(lambda x: contains_at_least_two_stop_words(x, stop_words))]\n",
    "\n",
    "output_path = 'result.csv'\n",
    "df_filtered.to_csv(output_path, index=False)\n",
    "\n"
   ]
  }
 ],
 "metadata": {
  "kernelspec": {
   "display_name": "Python 3",
   "language": "python",
   "name": "python3"
  },
  "language_info": {
   "codemirror_mode": {
    "name": "ipython",
    "version": 3
   },
   "file_extension": ".py",
   "mimetype": "text/x-python",
   "name": "python",
   "nbconvert_exporter": "python",
   "pygments_lexer": "ipython3",
   "version": "3.12.4"
  }
 },
 "nbformat": 4,
 "nbformat_minor": 2
}
